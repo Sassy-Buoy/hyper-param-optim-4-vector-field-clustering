{
 "cells": [
  {
   "cell_type": "code",
   "execution_count": 5,
   "metadata": {},
   "outputs": [
    {
     "name": "stderr",
     "output_type": "stream",
     "text": [
      "/tmp/ipykernel_1564943/3977416954.py:13: FutureWarning: You are using `torch.load` with `weights_only=False` (the current default value), which uses the default pickle module implicitly. It is possible to construct malicious pickle data which will execute arbitrary code during unpickling (See https://github.com/pytorch/pytorch/blob/main/SECURITY.md#untrusted-models for more details). In a future release, the default value for `weights_only` will be flipped to `True`. This limits the functions that could be executed during unpickling. Arbitrary objects will no longer be allowed to be loaded via this mode unless they are explicitly allowlisted by the user via `torch.serialization.add_safe_globals`. We recommend you start setting `weights_only=True` for any use case where you don't have full control of the loaded file. Please open an issue on GitHub for any issues related to this experimental feature.\n",
      "  sim_arr_tensor = torch.load('./data/sim_arr_tensor.pt')\n",
      "[I 2024-09-12 12:00:55,829] A new study created in RDB with name: AutoEncoder_10\n",
      "Trainer will use only 1 of 8 GPUs because it is running inside an interactive / notebook environment. You may try to set `Trainer(devices=8)` but please note that multi-GPU inside interactive / notebook environments is considered experimental and unstable. Your mileage may vary.\n",
      "GPU available: True (cuda), used: True\n",
      "TPU available: False, using: 0 TPU cores\n",
      "HPU available: False, using: 0 HPUs\n",
      "LOCAL_RANK: 0 - CUDA_VISIBLE_DEVICES: [0,1,2,3,4,5,6,7]\n",
      "\n",
      "  | Name  | Type        | Params | Mode \n",
      "----------------------------------------------\n",
      "0 | model | AutoEncoder | 84.6 K | train\n",
      "----------------------------------------------\n",
      "84.6 K    Trainable params\n",
      "0         Non-trainable params\n",
      "84.6 K    Total params\n",
      "0.338     Total estimated model params size (MB)\n",
      "30        Modules in train mode\n",
      "0         Modules in eval mode\n"
     ]
    },
    {
     "data": {
      "application/vnd.jupyter.widget-view+json": {
       "model_id": "7424f6ccc05a444c91be68489eb6c3e1",
       "version_major": 2,
       "version_minor": 0
      },
      "text/plain": [
       "Sanity Checking: |          | 0/? [00:00<?, ?it/s]"
      ]
     },
     "metadata": {},
     "output_type": "display_data"
    },
    {
     "data": {
      "application/vnd.jupyter.widget-view+json": {
       "model_id": "d670514aea4a436c962fd388a1ecf5bc",
       "version_major": 2,
       "version_minor": 0
      },
      "text/plain": [
       "Training: |          | 0/? [00:00<?, ?it/s]"
      ]
     },
     "metadata": {},
     "output_type": "display_data"
    },
    {
     "data": {
      "application/vnd.jupyter.widget-view+json": {
       "model_id": "ce9116ece7a740a6a149eb36c6ca5937",
       "version_major": 2,
       "version_minor": 0
      },
      "text/plain": [
       "Validation: |          | 0/? [00:00<?, ?it/s]"
      ]
     },
     "metadata": {},
     "output_type": "display_data"
    }
   ],
   "source": [
    "\"\"\"run\"\"\"\n",
    "from torch import nn\n",
    "import torch\n",
    "from torch.utils.data import DataLoader\n",
    "import lightning as L\n",
    "from lightning.pytorch.callbacks.early_stopping import EarlyStopping\n",
    "from sklearn.model_selection import train_test_split\n",
    "import optuna\n",
    "from models import LitAE\n",
    "\n",
    "\n",
    "# load data from data folder(we\"re in notebooks folder)\n",
    "sim_arr_tensor = torch.load('./data/sim_arr_tensor.pt')\n",
    "\n",
    "# train test split\n",
    "train_data, test_data = train_test_split(\n",
    "    sim_arr_tensor, test_size=0.2, random_state=42)\n",
    "train_data, val_data = train_test_split(\n",
    "    train_data, test_size=0.2, random_state=42)\n",
    "\n",
    "\n",
    "def objective(trial):\n",
    "    \"\"\" define the objective function.\"\"\"\n",
    "    num_layers = 5\n",
    "    channels = [3,]\n",
    "    for i in range(num_layers - 1):\n",
    "        channels.append(trial.suggest_int(\n",
    "            f'channels_{i}', 7, 20))\n",
    "    channels.append(12)\n",
    "    kernel_sizes = [trial.suggest_int(\n",
    "        f'kernel_{i}', 6, 20) for i in range(num_layers)]\n",
    "\n",
    "    dilations = [trial.suggest_int(\n",
    "        f'dilation_{i}', 1, 5) for i in range(num_layers)]\n",
    "\n",
    "    activations = [trial.suggest_categorical(\n",
    "        f'activation_{i}', ['nn.Softplus',\n",
    "                            'nn.SELU',\n",
    "                            'nn.SiLU',\n",
    "                            'nn.Tanh']) for i in range(num_layers)]\n",
    "\n",
    "    lr = trial.suggest_float('lr', 1e-5, 1e-1, log=True)\n",
    "    batch_size = trial.suggest_categorical('batch_size', [32, 64, 128, 256])\n",
    "\n",
    "    activations = [eval(activation) for activation in activations]\n",
    "    hyperparameters_dict = {\n",
    "        \"num_layers\": 5,\n",
    "        \"poolsize\": [2, 2, 2, 2, 5],\n",
    "        \"channels\": channels,\n",
    "        \"kernel_sizes\": kernel_sizes,\n",
    "        \"dilations\": dilations,\n",
    "        \"activations\": activations,\n",
    "        \"lr\": lr,\n",
    "        \"batch_size\": batch_size\n",
    "    }\n",
    "\n",
    "    lit_model = LitAE(hyperparameters=hyperparameters_dict)\n",
    "    trainer = L.Trainer(callbacks=[EarlyStopping(\n",
    "        monitor=\"val_loss\")], max_epochs=100)\n",
    "    trainer.fit(model=lit_model,\n",
    "                train_dataloaders=DataLoader(train_data,\n",
    "                                             batch_size=hyperparameters_dict[\"batch_size\"],\n",
    "                                             num_workers=31),\n",
    "                val_dataloaders=DataLoader(val_data,\n",
    "                                           batch_size=hyperparameters_dict[\"batch_size\"],\n",
    "                                           num_workers=31))\n",
    "\n",
    "    val_loss = trainer.callback_metrics[\"val_loss\"].item()\n",
    "\n",
    "    return val_loss\n",
    "\n",
    "\n",
    "study = optuna.create_study(direction='minimize',\n",
    "                            sampler=optuna.samplers.TPESampler(),\n",
    "                            pruner=optuna.pruners.HyperbandPruner(),\n",
    "                            study_name='AutoEncoder_10',\n",
    "                            storage='sqlite:///optuna.db',\n",
    "                            load_if_exists=True)\n",
    "study.optimize(objective, n_trials=100)\n"
   ]
  },
  {
   "cell_type": "code",
   "execution_count": 25,
   "metadata": {},
   "outputs": [
    {
     "name": "stdout",
     "output_type": "stream",
     "text": [
      "Number of classes:  15\n"
     ]
    },
    {
     "ename": "KeyError",
     "evalue": "'Class 15'",
     "output_type": "error",
     "traceback": [
      "\u001b[0;31m---------------------------------------------------------------------------\u001b[0m",
      "\u001b[0;31mKeyError\u001b[0m                                  Traceback (most recent call last)",
      "Cell \u001b[0;32mIn[25], line 28\u001b[0m\n\u001b[1;32m     25\u001b[0m     \u001b[38;5;28;01mif\u001b[39;00m i \u001b[38;5;129;01min\u001b[39;00m class_dict:\n\u001b[1;32m     26\u001b[0m         labels[labels \u001b[38;5;241m==\u001b[39m i] \u001b[38;5;241m=\u001b[39m class_dict[i]\n\u001b[0;32m---> 28\u001b[0m \u001b[43mplot_class\u001b[49m\u001b[43m(\u001b[49m\u001b[43mlabels\u001b[49m\u001b[43m)\u001b[49m\n",
      "File \u001b[0;32m~/hyper-param-optim-4-vector-field-clustering/plot/plotting.py:268\u001b[0m, in \u001b[0;36mplot_class\u001b[0;34m(labels, parameters_dict)\u001b[0m\n\u001b[1;32m    256\u001b[0m \u001b[38;5;250m\u001b[39m\u001b[38;5;124;03m\"\"\" Configuration for the class plot\u001b[39;00m\n\u001b[1;32m    257\u001b[0m \n\u001b[1;32m    258\u001b[0m \u001b[38;5;124;03mArgs:\u001b[39;00m\n\u001b[0;32m   (...)\u001b[0m\n\u001b[1;32m    263\u001b[0m \u001b[38;5;124;03m    None\u001b[39;00m\n\u001b[1;32m    264\u001b[0m \u001b[38;5;124;03m\"\"\"\u001b[39;00m\n\u001b[1;32m    265\u001b[0m \u001b[38;5;28mprint\u001b[39m(\u001b[38;5;124m\"\u001b[39m\u001b[38;5;124mNumber of classes: \u001b[39m\u001b[38;5;124m\"\u001b[39m,\n\u001b[1;32m    266\u001b[0m       \u001b[38;5;28mlen\u001b[39m(\u001b[38;5;28mset\u001b[39m(labels)) \u001b[38;5;241m-\u001b[39m (\u001b[38;5;241m1\u001b[39m \u001b[38;5;28;01mif\u001b[39;00m \u001b[38;5;241m-\u001b[39m\u001b[38;5;241m1\u001b[39m \u001b[38;5;129;01min\u001b[39;00m labels \u001b[38;5;28;01melse\u001b[39;00m \u001b[38;5;241m0\u001b[39m))\n\u001b[0;32m--> 268\u001b[0m class_dict \u001b[38;5;241m=\u001b[39m \u001b[43mc_dict\u001b[49m\u001b[43m(\u001b[49m\u001b[43mlabels\u001b[49m\u001b[43m)\u001b[49m\n\u001b[1;32m    270\u001b[0m traces \u001b[38;5;241m=\u001b[39m \u001b[38;5;28mlist\u001b[39m()\n\u001b[1;32m    271\u001b[0m \u001b[38;5;28;01mfor\u001b[39;00m class_id, colour \u001b[38;5;129;01min\u001b[39;00m \u001b[38;5;28mzip\u001b[39m(class_dict, ptx\u001b[38;5;241m.\u001b[39mcolors\u001b[38;5;241m.\u001b[39mqualitative\u001b[38;5;241m.\u001b[39mDark24):\n",
      "File \u001b[0;32m~/hyper-param-optim-4-vector-field-clustering/plot/plotting.py:250\u001b[0m, in \u001b[0;36mc_dict\u001b[0;34m(labels, simulation_file_paths)\u001b[0m\n\u001b[1;32m    248\u001b[0m         class_dict[\u001b[38;5;124m\"\u001b[39m\u001b[38;5;124mOutliers\u001b[39m\u001b[38;5;124m\"\u001b[39m]\u001b[38;5;241m.\u001b[39mappend(\u001b[38;5;28mstr\u001b[39m(path))\n\u001b[1;32m    249\u001b[0m     \u001b[38;5;28;01melse\u001b[39;00m:\n\u001b[0;32m--> 250\u001b[0m         \u001b[43mclass_dict\u001b[49m\u001b[43m[\u001b[49m\u001b[38;5;124;43mf\u001b[39;49m\u001b[38;5;124;43m\"\u001b[39;49m\u001b[38;5;124;43mClass \u001b[39;49m\u001b[38;5;132;43;01m{\u001b[39;49;00m\u001b[43mclass_\u001b[49m\u001b[38;5;132;43;01m}\u001b[39;49;00m\u001b[38;5;124;43m\"\u001b[39;49m\u001b[43m]\u001b[49m\u001b[38;5;241m.\u001b[39mappend(\u001b[38;5;28mstr\u001b[39m(path))\n\u001b[1;32m    252\u001b[0m \u001b[38;5;28;01mreturn\u001b[39;00m class_dict\n",
      "\u001b[0;31mKeyError\u001b[0m: 'Class 15'"
     ]
    }
   ],
   "source": [
    "import numpy as np\n",
    "from plot import plot_class\n",
    "\n",
    "labels = np.load(\"data/labels.npy\")\n",
    "\n",
    "class_dict = {\"1_skyrmion\": 0,\n",
    "                \"2_skyrmions\": 1,\n",
    "                \"4_skyrmions\": 2,\n",
    "                \"5_skyrmions\": 3,\n",
    "                \"quasi_sat\": 4,\n",
    "                \"target_skyrmion_1\": 5,\n",
    "                \"target_skyrmion_2\": 6,\n",
    "                \"helical_1\": 7,\n",
    "                \"helical_2\": 8,\n",
    "                \"cross_1\": 9,\n",
    "                \"cross_2\": 10,\n",
    "                \"horseshoe_1\": 11,\n",
    "                \"horseshoe_2\": 12,\n",
    "                \"cross_1\": 13,\n",
    "                \"cross_2\": 14,\n",
    "                \"cross_3\": 15\n",
    "                }\n",
    "\n",
    "for i in labels:\n",
    "    if i in class_dict:\n",
    "        labels[labels == i] = class_dict[i]\n",
    "\n",
    "plot_class(labels)\n"
   ]
  }
 ],
 "metadata": {
  "kernelspec": {
   "display_name": ".venv",
   "language": "python",
   "name": "python3"
  },
  "language_info": {
   "codemirror_mode": {
    "name": "ipython",
    "version": 3
   },
   "file_extension": ".py",
   "mimetype": "text/x-python",
   "name": "python",
   "nbconvert_exporter": "python",
   "pygments_lexer": "ipython3",
   "version": "3.9.2"
  }
 },
 "nbformat": 4,
 "nbformat_minor": 2
}
