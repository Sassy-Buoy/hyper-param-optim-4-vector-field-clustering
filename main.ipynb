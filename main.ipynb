{
 "cells": [
  {
   "cell_type": "code",
   "execution_count": 2,
   "metadata": {},
   "outputs": [
    {
     "name": "stdout",
     "output_type": "stream",
     "text": [
      "Num GPUs Available:  1\n"
     ]
    }
   ],
   "source": [
    "# check gpu\n",
    "import tensorflow as tf\n",
    "\n",
    "print(\"Num GPUs Available: \", len(tf.config.experimental.list_physical_devices('GPU')))"
   ]
  },
  {
   "cell_type": "code",
   "execution_count": null,
   "metadata": {},
   "outputs": [],
   "source": [
    "# load data and split into train and test sets\n",
    "from load_data import sim_arr\n",
    "from sklearn.model_selection import train_test_split\n",
    "\n",
    "train_set, test_set = train_test_split(sim_arr, test_size=0.2, random_state=42)"
   ]
  },
  {
   "cell_type": "code",
   "execution_count": null,
   "metadata": {},
   "outputs": [],
   "source": [
    "from autoencoder import Autoencoder\n",
    "from hyper_optim import Hyper\n",
    "\n",
    "# hyperparameter optimization\n",
    "hyper = Hyper(Autoencoder, 3, train_set, test_set)\n",
    "study = hyper.optimize(direction=\"minimize\",\n",
    "                       study_name=\"autoencoder\",\n",
    "                       storage=\"autoencoder.db\",\n",
    "                       n_trials=1)\n",
    "\n",
    "# Get the best hyperparameters\n",
    "best_params = study.best_params\n",
    "for key, value in best_params.items():\n",
    "    if key == 'activation':\n",
    "        print(key, \":\", value.__name__)\n",
    "    else:\n",
    "        print(key, \":\", value)\n",
    "print(\"Best hyperparameters:\", best_params)\n",
    "print(\"Best value:\", study.best_value)"
   ]
  },
  {
   "cell_type": "code",
   "execution_count": null,
   "metadata": {},
   "outputs": [],
   "source": [
    "# train the model with the best hyperparameters\n",
    "hyperparams = Hyper.search_space(study.best_trial)\n",
    "model = Autoencoder(*hyperparams, output_dim=3)\n",
    "\n",
    "model.fit(train_set, test_set, epochs=10, batch_size=32)\n",
    "model.evaluate(test_set, test_set)"
   ]
  },
  {
   "cell_type": "code",
   "execution_count": null,
   "metadata": {},
   "outputs": [],
   "source": [
    "# summarize the model\n",
    "model.get_layer('encoder').summary()\n",
    "model.get_layer('decoder').summary()"
   ]
  },
  {
   "cell_type": "code",
   "execution_count": null,
   "metadata": {},
   "outputs": [],
   "source": [
    "import numpy as np\n",
    "import matplotlib.pyplot as plt\n",
    "\n",
    "i = np.random.randint(0, len(test_set))\n",
    "in_sim = test_set[i: i + 1]\n",
    "out_sim = model(in_sim)\n",
    "fig, ax = plt.subplots(nrows=1, ncols=2)\n",
    "ax[0].imshow(in_sim[0, ..., 2], vmin=-1, vmax=1, cmap=\"RdBu\")\n",
    "ax[1].imshow(out_sim[0, ..., 2], vmin=-1, vmax=1, cmap=\"RdBu\")"
   ]
  },
  {
   "cell_type": "code",
   "execution_count": null,
   "metadata": {},
   "outputs": [],
   "source": [
    "from tensorflow.keras.layers import Flatten as Flatten\n",
    "\n",
    "feature_arr = model.feature_extractor(sim_arr)"
   ]
  },
  {
   "cell_type": "code",
   "execution_count": null,
   "metadata": {},
   "outputs": [],
   "source": [
    "plt.scatter(feature_arr[:, 0],\n",
    "            feature_arr[:, 1],\n",
    "            feature_arr[:, 2])"
   ]
  },
  {
   "cell_type": "code",
   "execution_count": null,
   "metadata": {},
   "outputs": [],
   "source": []
  }
 ],
 "metadata": {
  "kernelspec": {
   "display_name": ".venv",
   "language": "python",
   "name": "python3"
  },
  "language_info": {
   "codemirror_mode": {
    "name": "ipython",
    "version": 3
   },
   "file_extension": ".py",
   "mimetype": "text/x-python",
   "name": "python",
   "nbconvert_exporter": "python",
   "pygments_lexer": "ipython3",
   "version": "3.11.8"
  }
 },
 "nbformat": 4,
 "nbformat_minor": 2
}
