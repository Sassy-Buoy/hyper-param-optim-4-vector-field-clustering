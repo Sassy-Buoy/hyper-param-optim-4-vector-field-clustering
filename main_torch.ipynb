{
 "cells": [
  {
   "cell_type": "code",
   "execution_count": 14,
   "metadata": {},
   "outputs": [],
   "source": [
    "# load data and split into train and test sets\n",
    "import torch\n",
    "from load_data import sim_arr\n",
    "from sklearn.model_selection import train_test_split\n",
    "\n",
    "# reshape from batch, height, width, channel, to batch, channel, height, width\n",
    "sim_arr_transformed = sim_arr.reshape(\n",
    "    sim_arr.shape[0], sim_arr.shape[3], sim_arr.shape[1], sim_arr.shape[2])\n",
    "train_set, test_set = train_test_split(\n",
    "    sim_arr_transformed, test_size=0.2, random_state=42)\n",
    "\n",
    "# convert to tensor\n",
    "train_set = torch.tensor(train_set, dtype=torch.float32)\n",
    "test_set = torch.tensor(test_set, dtype=torch.float32)"
   ]
  },
  {
   "cell_type": "code",
   "execution_count": 15,
   "metadata": {},
   "outputs": [
    {
     "name": "stderr",
     "output_type": "stream",
     "text": [
      "[I 2024-05-08 03:49:39,523] Using an existing study with name 'autoencoder_torch1' instead of creating a new one.\n"
     ]
    },
    {
     "name": "stdout",
     "output_type": "stream",
     "text": [
      "Fold 1/5\n",
      "Epoch 1/10 Loss: 0.1084\n",
      "Epoch 2/10 Loss: 0.0714\n",
      "Epoch 3/10 Loss: 0.0562\n",
      "Epoch 4/10 Loss: 0.0518\n",
      "Epoch 5/10 Loss: 0.0539\n",
      "Epoch 6/10 Loss: 0.0549\n",
      "Epoch 7/10 Loss: 0.0589\n",
      "Epoch 8/10 Loss: 0.0894\n",
      "Epoch 9/10 Loss: 0.0803\n",
      "Epoch 10/10 Loss: 0.0638\n",
      "Validation Loss: 0.0571\n",
      "Fold 2/5\n",
      "Epoch 1/10 Loss: 0.0584\n",
      "Epoch 2/10 Loss: 0.0538\n",
      "Epoch 3/10 Loss: 0.0523\n",
      "Epoch 4/10 Loss: 0.0534\n",
      "Epoch 5/10 Loss: 0.0548\n",
      "Epoch 6/10 Loss: 0.0548\n",
      "Epoch 7/10 Loss: 0.0557\n",
      "Epoch 8/10 Loss: 0.0547\n",
      "Epoch 9/10 Loss: 0.0526\n",
      "Epoch 10/10 Loss: 0.0548\n",
      "Validation Loss: 0.0460\n",
      "Fold 3/5\n",
      "Epoch 1/10 Loss: 0.0503\n",
      "Epoch 2/10 Loss: 0.0541\n",
      "Epoch 3/10 Loss: 0.0567\n",
      "Epoch 4/10 Loss: 0.0537\n",
      "Epoch 5/10 Loss: 0.0497\n",
      "Epoch 6/10 Loss: 0.0501\n"
     ]
    }
   ],
   "source": [
    "from AE_torch import Autoencoder\n",
    "from search_space import search_space\n",
    "import optuna\n",
    "import warnings\n",
    "\n",
    "\n",
    "warnings.filterwarnings(\"ignore\")\n",
    "\n",
    "\n",
    "def objective(trial):\n",
    "    #clear clutter from previous runs\n",
    "    torch.cuda.empty_cache()\n",
    "\n",
    "    # define search space\n",
    "    num_layers, poolsize, channels, kernel_sizes, dilations, activations = search_space(trial, input_dim=3, output_dim=3)\n",
    "\n",
    "    # define model\n",
    "    model = Autoencoder(num_layers=num_layers,\n",
    "                        poolsize=poolsize,\n",
    "                        channels=channels,\n",
    "                        kernel_sizes=kernel_sizes,\n",
    "                        dilations=dilations,\n",
    "                        activations=activations,\n",
    "                        epochs=10,\n",
    "                        batch_size=32,\n",
    "                        learning_rate=1e-3,\n",
    "                        data=train_set)\n",
    "    \n",
    "    # train model with k-fold cross validation\n",
    "    val_losses = model.cross_val()\n",
    "    val_loss = sum(val_losses) / len(val_losses)\n",
    "    print(\"Validation loss:\", val_loss)\n",
    "    return val_loss\n",
    "\n",
    "# delete the study\n",
    "#optuna.delete_study(study_name=\"autoencoder_torch1\", storage=\"sqlite:///autoencoder.db\")\n",
    "\n",
    "# define study\n",
    "study = optuna.create_study(direction=\"minimize\",\n",
    "                            pruner=optuna.pruners.HyperbandPruner(),\n",
    "                            study_name=\"autoencoder_torch1\",\n",
    "                            storage=\"sqlite:///autoencoder.db\",\n",
    "                            load_if_exists=True)\n",
    "\n",
    "study.optimize(objective, n_trials=10)\n",
    "\n",
    "# Get the best hyperparameters\n",
    "best_params = study.best_params\n",
    "print(\"Best hyperparameters:\", str(best_params))\n",
    "print(\"Best value:\", study.best_value)\n"
   ]
  },
  {
   "cell_type": "code",
   "execution_count": null,
   "metadata": {},
   "outputs": [
    {
     "name": "stdout",
     "output_type": "stream",
     "text": [
      "Fold 1/5\n",
      "Epoch 1/10 Loss: 0.1003\n",
      "Epoch 2/10 Loss: 0.0853\n",
      "Epoch 3/10 Loss: 0.0845\n",
      "Epoch 4/10 Loss: 0.1020\n",
      "Epoch 5/10 Loss: 0.0857\n",
      "Epoch 6/10 Loss: 0.0787\n",
      "Epoch 7/10 Loss: 0.0779\n",
      "Epoch 8/10 Loss: 0.0738\n",
      "Epoch 9/10 Loss: 0.0744\n",
      "Epoch 10/10 Loss: 0.0724\n",
      "Validation Loss: 0.0554\n",
      "Fold 2/5\n",
      "Epoch 1/10 Loss: 0.0696\n",
      "Epoch 2/10 Loss: 0.0738\n",
      "Epoch 3/10 Loss: 0.0676\n",
      "Epoch 4/10 Loss: 0.0633\n",
      "Epoch 5/10 Loss: 0.0631\n",
      "Epoch 6/10 Loss: 0.0607\n",
      "Epoch 7/10 Loss: 0.0585\n",
      "Epoch 8/10 Loss: 0.0563\n",
      "Epoch 9/10 Loss: 0.0550\n",
      "Epoch 10/10 Loss: 0.0528\n",
      "Validation Loss: 0.0857\n",
      "Fold 3/5\n",
      "Epoch 1/10 Loss: 0.0512\n",
      "Epoch 2/10 Loss: 0.0508\n",
      "Epoch 3/10 Loss: 0.0471\n",
      "Epoch 4/10 Loss: 0.0467\n",
      "Epoch 5/10 Loss: 0.0453\n",
      "Epoch 6/10 Loss: 0.0449\n",
      "Epoch 7/10 Loss: 0.0446\n",
      "Epoch 8/10 Loss: 0.0430\n",
      "Epoch 9/10 Loss: 0.0437\n",
      "Epoch 10/10 Loss: 0.0428\n",
      "Validation Loss: 0.0291\n",
      "Fold 4/5\n",
      "Epoch 1/10 Loss: 0.0423\n",
      "Epoch 2/10 Loss: 0.0410\n",
      "Epoch 3/10 Loss: 0.0423\n",
      "Epoch 4/10 Loss: 0.0409\n",
      "Epoch 5/10 Loss: 0.0397\n",
      "Epoch 6/10 Loss: 0.0399\n",
      "Epoch 7/10 Loss: 0.0406\n",
      "Epoch 8/10 Loss: 0.0392\n",
      "Epoch 9/10 Loss: 0.0392\n",
      "Epoch 10/10 Loss: 0.0391\n",
      "Validation Loss: 0.0315\n",
      "Fold 5/5\n",
      "Epoch 1/10 Loss: 0.0394\n",
      "Epoch 2/10 Loss: 0.0396\n",
      "Epoch 3/10 Loss: 0.0399\n",
      "Epoch 4/10 Loss: 0.0401\n",
      "Epoch 5/10 Loss: 0.0395\n",
      "Epoch 6/10 Loss: 0.0368\n",
      "Epoch 7/10 Loss: 0.0388\n",
      "Epoch 8/10 Loss: 0.0370\n",
      "Epoch 9/10 Loss: 0.0388\n",
      "Epoch 10/10 Loss: 0.0379\n",
      "Validation Loss: 0.0264\n"
     ]
    },
    {
     "data": {
      "text/plain": [
       "[0.05535724566654298,\n",
       " 0.08573057852623621,\n",
       " 0.029071885516627448,\n",
       " 0.03153858140203908,\n",
       " 0.026426488841475297]"
      ]
     },
     "execution_count": 10,
     "metadata": {},
     "output_type": "execute_result"
    }
   ],
   "source": [
    "# train model with best hyperparameters\n",
    "num_layers, poolsize, channels, kernel_sizes, dilations, activations = search_space(\n",
    "    study.best_trial, input_dim=3, output_dim=3)\n",
    "\n",
    "model = Autoencoder(num_layers=num_layers,\n",
    "                    poolsize=poolsize,\n",
    "                    channels=channels,\n",
    "                    kernel_sizes=kernel_sizes,\n",
    "                    dilations=dilations,\n",
    "                    activations=activations,\n",
    "                    epochs=10,\n",
    "                    batch_size=32, \n",
    "                    learning_rate=1e-3,\n",
    "                    data=train_set)\n",
    "\n",
    "model.cross_val()\n"
   ]
  },
  {
   "cell_type": "code",
   "execution_count": null,
   "metadata": {},
   "outputs": [
    {
     "name": "stdout",
     "output_type": "stream",
     "text": [
      "Autoencoder(\n",
      "  (encoder): Encoder(\n",
      "    (layers): ModuleList(\n",
      "      (0): Conv2dSame(3, 10, kernel_size=(21, 21), stride=(1, 1))\n",
      "      (1): Softplus(beta=1.0, threshold=20.0)\n",
      "      (2): MaxPool2d(kernel_size=2, stride=2, padding=0, dilation=1, ceil_mode=True)\n",
      "      (3): Conv2dSame(10, 11, kernel_size=(8, 8), stride=(1, 1), dilation=(3, 3))\n",
      "      (4): Softplus(beta=1.0, threshold=20.0)\n",
      "      (5): MaxPool2d(kernel_size=2, stride=2, padding=0, dilation=1, ceil_mode=True)\n",
      "      (6): Conv2dSame(11, 10, kernel_size=(3, 3), stride=(1, 1), dilation=(3, 3))\n",
      "      (7): Tanh()\n",
      "      (8): MaxPool2d(kernel_size=5, stride=5, padding=0, dilation=1, ceil_mode=True)\n",
      "      (9): Conv2dSame(10, 8, kernel_size=(20, 20), stride=(1, 1))\n",
      "      (10): SELU()\n",
      "      (11): MaxPool2d(kernel_size=2, stride=2, padding=0, dilation=1, ceil_mode=True)\n",
      "      (12): Conv2dSame(8, 3, kernel_size=(17, 17), stride=(1, 1), dilation=(2, 2))\n",
      "      (13): SiLU()\n",
      "      (14): MaxPool2d(kernel_size=2, stride=2, padding=0, dilation=1, ceil_mode=True)\n",
      "    )\n",
      "  )\n",
      "  (decoder): Decoder(\n",
      "    (layers): ModuleList(\n",
      "      (0): MaxUnpool2d(kernel_size=(2, 2), stride=(2, 2), padding=(0, 0))\n",
      "      (1): SiLU()\n",
      "      (2): Conv2dSame(3, 8, kernel_size=(17, 17), stride=(1, 1), dilation=(2, 2))\n",
      "      (3): MaxUnpool2d(kernel_size=(2, 2), stride=(2, 2), padding=(0, 0))\n",
      "      (4): SELU()\n",
      "      (5): Conv2dSame(8, 10, kernel_size=(20, 20), stride=(1, 1))\n",
      "      (6): MaxUnpool2d(kernel_size=(5, 5), stride=(5, 5), padding=(0, 0))\n",
      "      (7): Tanh()\n",
      "      (8): Conv2dSame(10, 11, kernel_size=(3, 3), stride=(1, 1), dilation=(3, 3))\n",
      "      (9): MaxUnpool2d(kernel_size=(2, 2), stride=(2, 2), padding=(0, 0))\n",
      "      (10): Softplus(beta=1.0, threshold=20.0)\n",
      "      (11): Conv2dSame(11, 10, kernel_size=(8, 8), stride=(1, 1), dilation=(3, 3))\n",
      "      (12): MaxUnpool2d(kernel_size=(2, 2), stride=(2, 2), padding=(0, 0))\n",
      "      (13): Softplus(beta=1.0, threshold=20.0)\n",
      "      (14): Conv2dSame(10, 3, kernel_size=(21, 21), stride=(1, 1))\n",
      "    )\n",
      "  )\n",
      "  (criterion): MSELoss()\n",
      ")\n"
     ]
    }
   ],
   "source": [
    "# summarize the model\n",
    "print(model)"
   ]
  },
  {
   "cell_type": "code",
   "execution_count": null,
   "metadata": {},
   "outputs": [
    {
     "data": {
      "text/plain": [
       "<matplotlib.image.AxesImage at 0x7398429d89b0>"
      ]
     },
     "execution_count": 12,
     "metadata": {},
     "output_type": "execute_result"
    },
    {
     "data": {
      "image/png": "[encoded data removed]",
      "text/plain": [
       "<Figure size 800x600 with 2 Axes>"
      ]
     },
     "metadata": {},
     "output_type": "display_data"
    }
   ],
   "source": [
    "import numpy as np\n",
    "import matplotlib.pyplot as plt\n",
    "\n",
    "i = np.random.randint(0, len(test_set))\n",
    "in_sim = test_set[i: i + 1]\n",
    "in_sim = in_sim.to('cuda:0')\n",
    "out_sim = model(in_sim)\n",
    "in_sim = in_sim.detach().to('cpu').numpy()\n",
    "in_sim = in_sim.reshape(in_sim.shape[0], in_sim.shape[2], in_sim.shape[3], in_sim.shape[1])\n",
    "out_sim = out_sim.detach().to('cpu').numpy()\n",
    "out_sim = out_sim.reshape(out_sim.shape[0], out_sim.shape[2], out_sim.shape[3], out_sim.shape[1])\n",
    "fig, ax = plt.subplots(nrows=1, ncols=2)\n",
    "ax[0].imshow(in_sim[0, ..., 2], vmin=-1, vmax=1, cmap=\"RdBu\")\n",
    "ax[1].imshow(out_sim[0, ..., 2], vmin=-1, vmax=1, cmap=\"RdBu\")"
   ]
  }
 ],
 "metadata": {
  "kernelspec": {
   "display_name": ".venv",
   "language": "python",
   "name": "python3"
  },
  "language_info": {
   "codemirror_mode": {
    "name": "ipython",
    "version": 3
   },
   "file_extension": ".py",
   "mimetype": "text/x-python",
   "name": "python",
   "nbconvert_exporter": "python",
   "pygments_lexer": "ipython3",
   "version": "3.12.3"
  }
 },
 "nbformat": 4,
 "nbformat_minor": 2
}
