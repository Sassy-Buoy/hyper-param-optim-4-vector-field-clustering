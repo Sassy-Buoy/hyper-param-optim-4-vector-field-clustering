{
 "cells": [
  {
   "cell_type": "code",
   "execution_count": 15,
   "metadata": {},
   "outputs": [],
   "source": [
    "# load data and split into train and test sets\n",
    "import torch\n",
    "from load_data import sim_arr\n",
    "from sklearn.model_selection import train_test_split\n",
    "\n",
    "# reshape from batch, height, width, channel, to batch, channel, height, width\n",
    "sim_arr_transformed = sim_arr.reshape(\n",
    "    sim_arr.shape[0], sim_arr.shape[3], sim_arr.shape[1], sim_arr.shape[2])\n",
    "train_set, test_set = train_test_split(\n",
    "    sim_arr_transformed, test_size=0.2, random_state=42)\n",
    "\n",
    "# convert to tensor\n",
    "train_set = torch.tensor(train_set, dtype=torch.float32)\n",
    "test_set = torch.tensor(test_set, dtype=torch.float32)"
   ]
  },
  {
   "cell_type": "code",
   "execution_count": 17,
   "metadata": {},
   "outputs": [
    {
     "name": "stderr",
     "output_type": "stream",
     "text": [
      "[I 2024-05-08 11:32:09,148] Using an existing study with name 'autoencoder_torch1' instead of creating a new one.\n"
     ]
    },
    {
     "name": "stdout",
     "output_type": "stream",
     "text": [
      "Best hyperparameters: {'num_layers': 3, 'poolsize_3': [2, 20, 2], 'channels_0': 9, 'channels_1': 10, 'kernel_size_0': 8, 'kernel_size_1': 20, 'kernel_size_2': 5, 'dilation_0': 1, 'dilation_1': 2, 'dilation_2': 3, 'activation_0': 'nn.Tanh', 'activation_1': 'nn.SiLU', 'activation_2': 'nn.Tanh'}\n",
      "Best value: 0.02036499066546983\n"
     ]
    }
   ],
   "source": [
    "from AE_torch import Autoencoder\n",
    "from search_space import search_space\n",
    "import optuna\n",
    "import warnings\n",
    "\n",
    "\n",
    "warnings.filterwarnings(\"ignore\")\n",
    "\n",
    "\n",
    "def objective(trial):\n",
    "    #clear clutter from previous runs\n",
    "    torch.cuda.empty_cache()\n",
    "\n",
    "    # define search space\n",
    "    num_layers, poolsize, channels, kernel_sizes, dilations, activations = search_space(trial, input_dim=3, output_dim=3)\n",
    "\n",
    "    # define model\n",
    "    model = Autoencoder(num_layers=num_layers,\n",
    "                        poolsize=poolsize,\n",
    "                        channels=channels,\n",
    "                        kernel_sizes=kernel_sizes,\n",
    "                        dilations=dilations,\n",
    "                        activations=activations,\n",
    "                        epochs=10,\n",
    "                        batch_size=32,\n",
    "                        learning_rate=1e-3,\n",
    "                        data=train_set)\n",
    "    \n",
    "    # train model with k-fold cross validation\n",
    "    val_losses = model.cross_val()\n",
    "    val_loss = sum(val_losses) / len(val_losses)\n",
    "    print(\"Validation loss:\", val_loss)\n",
    "    return val_loss\n",
    "\n",
    "# delete the study\n",
    "#optuna.delete_study(study_name=\"autoencoder_torch1\", storage=\"sqlite:///autoencoder.db\")\n",
    "\n",
    "# define study\n",
    "study = optuna.create_study(direction=\"minimize\",\n",
    "                            pruner=optuna.pruners.HyperbandPruner(),\n",
    "                            study_name=\"autoencoder_torch1\",\n",
    "                            storage=\"sqlite:///autoencoder.db\",\n",
    "                            load_if_exists=True)\n",
    "\n",
    "study.optimize(objective, n_trials=0)\n",
    "\n",
    "# Get the best hyperparameters\n",
    "best_params = study.best_params\n",
    "print(\"Best hyperparameters:\", str(best_params))\n",
    "print(\"Best value:\", study.best_value)\n"
   ]
  },
  {
   "cell_type": "code",
   "execution_count": null,
   "metadata": {},
   "outputs": [
    {
     "name": "stdout",
     "output_type": "stream",
     "text": [
      "Fold 1/5\n"
     ]
    },
    {
     "name": "stdout",
     "output_type": "stream",
     "text": [
      "Epoch 1/10 Loss: 6.0026\n",
      "Epoch 2/10 Loss: 3.1614\n",
      "Epoch 3/10 Loss: 3.6405\n",
      "Epoch 4/10 Loss: 2.8993\n",
      "Epoch 5/10 Loss: 2.2962\n",
      "Epoch 6/10 Loss: 2.0475\n",
      "Epoch 7/10 Loss: 1.9519\n",
      "Epoch 8/10 Loss: 1.7819\n",
      "Epoch 9/10 Loss: 1.6652\n",
      "Epoch 10/10 Loss: 1.6888\n",
      "Validation Loss: 1.5224\n",
      "Fold 2/5\n",
      "Epoch 1/10 Loss: 1.5515\n",
      "Epoch 2/10 Loss: 1.4495\n",
      "Epoch 3/10 Loss: 1.4191\n",
      "Epoch 4/10 Loss: 1.4456\n",
      "Epoch 5/10 Loss: 1.4779\n",
      "Epoch 6/10 Loss: 1.5820\n",
      "Epoch 7/10 Loss: 1.5400\n",
      "Epoch 8/10 Loss: 1.4458\n",
      "Epoch 9/10 Loss: 1.6292\n",
      "Epoch 10/10 Loss: 2.7729\n",
      "Validation Loss: 2.4502\n",
      "Fold 3/5\n",
      "Epoch 1/10 Loss: 2.0168\n",
      "Epoch 2/10 Loss: 1.5625\n",
      "Epoch 3/10 Loss: 1.4426\n",
      "Epoch 4/10 Loss: 1.4008\n",
      "Epoch 5/10 Loss: 1.4890\n",
      "Epoch 6/10 Loss: 1.4885\n",
      "Epoch 7/10 Loss: 1.6467\n",
      "Epoch 8/10 Loss: 1.4441\n",
      "Epoch 9/10 Loss: 1.5174\n",
      "Epoch 10/10 Loss: 1.3418\n",
      "Validation Loss: 1.2819\n",
      "Fold 4/5\n",
      "Epoch 1/10 Loss: 1.2935\n",
      "Epoch 2/10 Loss: 1.1824\n",
      "Epoch 3/10 Loss: 1.0689\n",
      "Epoch 4/10 Loss: 1.0454\n",
      "Epoch 5/10 Loss: 1.0401\n",
      "Epoch 6/10 Loss: 0.9791\n",
      "Epoch 7/10 Loss: 0.9477\n",
      "Epoch 8/10 Loss: 0.9409\n",
      "Epoch 9/10 Loss: 0.9149\n",
      "Epoch 10/10 Loss: 0.8891\n",
      "Validation Loss: 0.8400\n",
      "Fold 5/5\n",
      "Epoch 1/10 Loss: 0.8699\n",
      "Epoch 2/10 Loss: 0.8425\n",
      "Epoch 3/10 Loss: 0.8300\n",
      "Epoch 4/10 Loss: 0.8190\n",
      "Epoch 5/10 Loss: 0.8183\n",
      "Epoch 6/10 Loss: 0.8095\n",
      "Epoch 7/10 Loss: 0.7999\n",
      "Epoch 8/10 Loss: 0.7818\n",
      "Epoch 9/10 Loss: 0.7586\n",
      "Epoch 10/10 Loss: 0.7491\n",
      "Validation Loss: 0.7217\n"
     ]
    },
    {
     "data": {
      "text/plain": [
       "[1.5223677214235067,\n",
       " 2.450192484539002,\n",
       " 1.2819065293297172,\n",
       " 0.8399821053026244,\n",
       " 0.7217357301851735]"
      ]
     },
     "execution_count": 6,
     "metadata": {},
     "output_type": "execute_result"
    }
   ],
   "source": [
    "# train model with best hyperparameters\n",
    "num_layers, poolsize, channels, kernel_sizes, dilations, activations = search_space(\n",
    "    study.best_trial, input_dim=3, output_dim=3)\n",
    "\n",
    "model = Autoencoder(num_layers=num_layers,\n",
    "                    poolsize=poolsize,\n",
    "                    channels=channels,\n",
    "                    kernel_sizes=kernel_sizes,\n",
    "                    dilations=dilations,\n",
    "                    activations=activations,\n",
    "                    epochs=10,\n",
    "                    batch_size=32, \n",
    "                    learning_rate=1e-3,\n",
    "                    data=train_set)\n",
    "\n",
    "model.cross_val()\n"
   ]
  },
  {
   "cell_type": "code",
   "execution_count": 21,
   "metadata": {},
   "outputs": [
    {
     "name": "stdout",
     "output_type": "stream",
     "text": [
      "Autoencoder(\n",
      "  (encoder): Encoder(\n",
      "    (layers): ModuleList(\n",
      "      (0): Conv2dSame(3, 9, kernel_size=(8, 8), stride=(1, 1))\n",
      "      (1): Tanh()\n",
      "      (2): MaxPool2d(kernel_size=2, stride=2, padding=0, dilation=1, ceil_mode=True)\n",
      "      (3): Conv2dSame(9, 10, kernel_size=(20, 20), stride=(1, 1), dilation=(2, 2))\n",
      "      (4): SiLU()\n",
      "      (5): MaxPool2d(kernel_size=20, stride=20, padding=0, dilation=1, ceil_mode=True)\n",
      "      (6): Conv2dSame(10, 3, kernel_size=(5, 5), stride=(1, 1), dilation=(3, 3))\n",
      "      (7): Tanh()\n",
      "      (8): MaxPool2d(kernel_size=2, stride=2, padding=0, dilation=1, ceil_mode=True)\n",
      "    )\n",
      "  )\n",
      "  (decoder): Decoder(\n",
      "    (layers): ModuleList(\n",
      "      (0): MaxUnpool2d(kernel_size=(2, 2), stride=(2, 2), padding=(0, 0))\n",
      "      (1): Tanh()\n",
      "      (2): Conv2dSame(3, 10, kernel_size=(5, 5), stride=(1, 1), dilation=(3, 3))\n",
      "      (3): MaxUnpool2d(kernel_size=(20, 20), stride=(20, 20), padding=(0, 0))\n",
      "      (4): SiLU()\n",
      "      (5): Conv2dSame(10, 9, kernel_size=(20, 20), stride=(1, 1), dilation=(2, 2))\n",
      "      (6): MaxUnpool2d(kernel_size=(2, 2), stride=(2, 2), padding=(0, 0))\n",
      "      (7): Tanh()\n",
      "      (8): Conv2dSame(9, 3, kernel_size=(8, 8), stride=(1, 1))\n",
      "    )\n",
      "  )\n",
      "  (criterion): MSELoss()\n",
      ")\n"
     ]
    }
   ],
   "source": [
    "# summarize the model\n",
    "print(model)\n"
   ]
  },
  {
   "cell_type": "code",
   "execution_count": 22,
   "metadata": {},
   "outputs": [
    {
     "data": {
      "text/plain": [
       "<matplotlib.image.AxesImage at 0x7200b9853560>"
      ]
     },
     "execution_count": 22,
     "metadata": {},
     "output_type": "execute_result"
    },
    {
     "data": {
      "image/png": "[encoded data removed]",
      "text/plain": [
       "<Figure size 800x600 with 2 Axes>"
      ]
     },
     "metadata": {},
     "output_type": "display_data"
    }
   ],
   "source": [
    "import numpy as np\n",
    "import matplotlib.pyplot as plt\n",
    "\n",
    "i = np.random.randint(0, len(test_set))\n",
    "in_sim = test_set[i: i + 1]\n",
    "in_sim = in_sim.to('cuda:0')\n",
    "out_sim = model(in_sim)\n",
    "in_sim = in_sim.detach().to('cpu').numpy()\n",
    "in_sim = in_sim.reshape(in_sim.shape[0], in_sim.shape[2], in_sim.shape[3], in_sim.shape[1])\n",
    "out_sim = out_sim.detach().to('cpu').numpy()\n",
    "out_sim = out_sim.reshape(out_sim.shape[0], out_sim.shape[2], out_sim.shape[3], out_sim.shape[1])\n",
    "fig, ax = plt.subplots(nrows=1, ncols=2)\n",
    "ax[0].imshow(in_sim[0, ..., 2], vmin=-1, vmax=1, cmap=\"RdBu\")\n",
    "ax[1].imshow(out_sim[0, ..., 2], vmin=-1, vmax=1, cmap=\"RdBu\")"
   ]
  },
  {
   "cell_type": "code",
   "execution_count": 23,
   "metadata": {},
   "outputs": [
    {
     "ename": "AttributeError",
     "evalue": "'Autoencoder' object has no attribute 'losses'",
     "output_type": "error",
     "traceback": [
      "\u001b[0;31m---------------------------------------------------------------------------\u001b[0m",
      "\u001b[0;31mAttributeError\u001b[0m                            Traceback (most recent call last)",
      "Cell \u001b[0;32mIn[23], line 5\u001b[0m\n\u001b[1;32m      3\u001b[0m \u001b[38;5;66;03m# plot val_losses and losses against epochs\u001b[39;00m\n\u001b[1;32m      4\u001b[0m plt\u001b[38;5;241m.\u001b[39mfigure()\n\u001b[0;32m----> 5\u001b[0m plt\u001b[38;5;241m.\u001b[39mplot(\u001b[43mmodel\u001b[49m\u001b[38;5;241;43m.\u001b[39;49m\u001b[43mlosses\u001b[49m)\n\u001b[1;32m      6\u001b[0m plt\u001b[38;5;241m.\u001b[39mplot(model\u001b[38;5;241m.\u001b[39mval_losses)\n\u001b[1;32m      7\u001b[0m plt\u001b[38;5;241m.\u001b[39mtitle(\u001b[38;5;124m'\u001b[39m\u001b[38;5;124mModel loss\u001b[39m\u001b[38;5;124m'\u001b[39m)\n",
      "File \u001b[0;32m~/hyper-param-optim-4-vector-field-clustering/.venv/lib/python3.12/site-packages/torch/nn/modules/module.py:1709\u001b[0m, in \u001b[0;36mModule.__getattr__\u001b[0;34m(self, name)\u001b[0m\n\u001b[1;32m   1707\u001b[0m     \u001b[38;5;28;01mif\u001b[39;00m name \u001b[38;5;129;01min\u001b[39;00m modules:\n\u001b[1;32m   1708\u001b[0m         \u001b[38;5;28;01mreturn\u001b[39;00m modules[name]\n\u001b[0;32m-> 1709\u001b[0m \u001b[38;5;28;01mraise\u001b[39;00m \u001b[38;5;167;01mAttributeError\u001b[39;00m(\u001b[38;5;124mf\u001b[39m\u001b[38;5;124m\"\u001b[39m\u001b[38;5;124m'\u001b[39m\u001b[38;5;132;01m{\u001b[39;00m\u001b[38;5;28mtype\u001b[39m(\u001b[38;5;28mself\u001b[39m)\u001b[38;5;241m.\u001b[39m\u001b[38;5;18m__name__\u001b[39m\u001b[38;5;132;01m}\u001b[39;00m\u001b[38;5;124m'\u001b[39m\u001b[38;5;124m object has no attribute \u001b[39m\u001b[38;5;124m'\u001b[39m\u001b[38;5;132;01m{\u001b[39;00mname\u001b[38;5;132;01m}\u001b[39;00m\u001b[38;5;124m'\u001b[39m\u001b[38;5;124m\"\u001b[39m)\n",
      "\u001b[0;31mAttributeError\u001b[0m: 'Autoencoder' object has no attribute 'losses'"
     ]
    },
    {
     "data": {
      "text/plain": [
       "<Figure size 800x600 with 0 Axes>"
      ]
     },
     "metadata": {},
     "output_type": "display_data"
    }
   ],
   "source": [
    "import matplotlib.pyplot as plt\n",
    "\n",
    "# plot val_losses and losses against epochs\n",
    "plt.figure()\n",
    "plt.plot(history.history['loss'])\n",
    "plt.plot(model.val_losses)\n",
    "plt.title('Model loss')\n",
    "plt.ylabel('Loss')\n",
    "plt.xlabel('Epoch')\n",
    "plt.legend(['Train', 'Validation'], loc='upper left')\n",
    "plt.show()"
   ]
  },
  {
   "cell_type": "code",
   "execution_count": 29,
   "metadata": {},
   "outputs": [
    {
     "ename": "AttributeError",
     "evalue": "'JointAutoencoder' object has no attribute 'data'",
     "output_type": "error",
     "traceback": [
      "\u001b[0;31m---------------------------------------------------------------------------\u001b[0m",
      "\u001b[0;31mAttributeError\u001b[0m                            Traceback (most recent call last)",
      "Cell \u001b[0;32mIn[29], line 84\u001b[0m\n\u001b[1;32m     81\u001b[0m         \u001b[38;5;28;01mreturn\u001b[39;00m val_losses\n\u001b[1;32m     83\u001b[0m joint_autoencoder \u001b[38;5;241m=\u001b[39m JointAutoencoder(encoder\u001b[38;5;241m=\u001b[39mmodel\u001b[38;5;241m.\u001b[39mencoder, decoder\u001b[38;5;241m=\u001b[39mmodel\u001b[38;5;241m.\u001b[39mdecoder)\n\u001b[0;32m---> 84\u001b[0m \u001b[43mjoint_autoencoder\u001b[49m\u001b[38;5;241;43m.\u001b[39;49m\u001b[43mcross_val\u001b[49m\u001b[43m(\u001b[49m\u001b[43m)\u001b[49m\n",
      "Cell \u001b[0;32mIn[29], line 62\u001b[0m, in \u001b[0;36mJointAutoencoder.cross_val\u001b[0;34m(self, n_splits)\u001b[0m\n\u001b[1;32m     60\u001b[0m kf \u001b[38;5;241m=\u001b[39m KFold(n_splits\u001b[38;5;241m=\u001b[39mn_splits, shuffle\u001b[38;5;241m=\u001b[39m\u001b[38;5;28;01mTrue\u001b[39;00m)\n\u001b[1;32m     61\u001b[0m val_losses \u001b[38;5;241m=\u001b[39m []\n\u001b[0;32m---> 62\u001b[0m \u001b[38;5;28;01mfor\u001b[39;00m fold, (train_index, val_index) \u001b[38;5;129;01min\u001b[39;00m \u001b[38;5;28menumerate\u001b[39m(kf\u001b[38;5;241m.\u001b[39msplit(\u001b[38;5;28;43mself\u001b[39;49m\u001b[38;5;241;43m.\u001b[39;49m\u001b[43mdata\u001b[49m)):\n\u001b[1;32m     63\u001b[0m     \u001b[38;5;28mprint\u001b[39m(\u001b[38;5;124mf\u001b[39m\u001b[38;5;124m\"\u001b[39m\u001b[38;5;124mFold \u001b[39m\u001b[38;5;132;01m{\u001b[39;00mfold\u001b[38;5;241m+\u001b[39m\u001b[38;5;241m1\u001b[39m\u001b[38;5;132;01m}\u001b[39;00m\u001b[38;5;124m/\u001b[39m\u001b[38;5;132;01m{\u001b[39;00mn_splits\u001b[38;5;132;01m}\u001b[39;00m\u001b[38;5;124m\"\u001b[39m)\n\u001b[1;32m     64\u001b[0m     train_sampler \u001b[38;5;241m=\u001b[39m torch\u001b[38;5;241m.\u001b[39mutils\u001b[38;5;241m.\u001b[39mdata\u001b[38;5;241m.\u001b[39mSubsetRandomSampler(train_index)\n",
      "File \u001b[0;32m~/hyper-param-optim-4-vector-field-clustering/.venv/lib/python3.12/site-packages/torch/nn/modules/module.py:1709\u001b[0m, in \u001b[0;36mModule.__getattr__\u001b[0;34m(self, name)\u001b[0m\n\u001b[1;32m   1707\u001b[0m     \u001b[38;5;28;01mif\u001b[39;00m name \u001b[38;5;129;01min\u001b[39;00m modules:\n\u001b[1;32m   1708\u001b[0m         \u001b[38;5;28;01mreturn\u001b[39;00m modules[name]\n\u001b[0;32m-> 1709\u001b[0m \u001b[38;5;28;01mraise\u001b[39;00m \u001b[38;5;167;01mAttributeError\u001b[39;00m(\u001b[38;5;124mf\u001b[39m\u001b[38;5;124m\"\u001b[39m\u001b[38;5;124m'\u001b[39m\u001b[38;5;132;01m{\u001b[39;00m\u001b[38;5;28mtype\u001b[39m(\u001b[38;5;28mself\u001b[39m)\u001b[38;5;241m.\u001b[39m\u001b[38;5;18m__name__\u001b[39m\u001b[38;5;132;01m}\u001b[39;00m\u001b[38;5;124m'\u001b[39m\u001b[38;5;124m object has no attribute \u001b[39m\u001b[38;5;124m'\u001b[39m\u001b[38;5;132;01m{\u001b[39;00mname\u001b[38;5;132;01m}\u001b[39;00m\u001b[38;5;124m'\u001b[39m\u001b[38;5;124m\"\u001b[39m)\n",
      "\u001b[0;31mAttributeError\u001b[0m: 'JointAutoencoder' object has no attribute 'data'"
     ]
    }
   ],
   "source": [
    "from clustering import DBSCANLayer\n",
    "from sklearn.model_selection import KFold\n",
    "\n",
    "\n",
    "cluster = DBSCANLayer(eps=0.5, min_samples=10)\n",
    "\n",
    "class JointAutoencoder(torch.nn.Module):\n",
    "    def __init__(self, encoder, decoder):\n",
    "        super(JointAutoencoder, self).__init__()\n",
    "        self.encoder = encoder\n",
    "        self.decoder = decoder\n",
    "        self.cluster = cluster\n",
    "        self.epochs = 10\n",
    "        self.batch_size = 32\n",
    "        self.data = train_set\n",
    "\n",
    "    def forward(self, x):\n",
    "        x = self.encoder(x)\n",
    "        clusters = self.cluster(x)\n",
    "        x = self.decoder(x)\n",
    "        \n",
    "        return x, clusters\n",
    "    \n",
    "    def _get_loss(self, x, x_hat, clusters):\n",
    "        reconstruction_loss = torch.nn.functional.mse_loss(x_hat, x, reduction='mean')\n",
    "        cluster_loss = torch.nn.functional.kl_div(clusters, torch.ones_like(clusters), reduction='mean')\n",
    "        return reconstruction_loss + cluster_loss\n",
    "\n",
    "    \n",
    "    def train_model(self, dataloader, device=torch.device('cuda:0')):\n",
    "        \"\"\"Train the autoencoder.\"\"\"\n",
    "        self.to(device)\n",
    "        self.train()\n",
    "        for epoch in range(self.epochs):\n",
    "            running_loss = 0.0\n",
    "            for batch in dataloader:\n",
    "                batch = batch.to(device)\n",
    "                self.optimizer.zero_grad()\n",
    "                loss = self._get_loss(batch)\n",
    "                loss.backward()\n",
    "                self.optimizer.step()\n",
    "                running_loss += loss.item() * batch.size(0)\n",
    "            epoch_loss = running_loss / len(dataloader)\n",
    "            print(f\"Epoch {epoch+1}/{self.epochs} Loss: {epoch_loss:.4f}\")\n",
    "\n",
    "    def evaluate_model(self, dataloader, device=torch.device('cuda:0')):\n",
    "        \"\"\"Evaluate the autoencoder.\"\"\"\n",
    "        self.to(device)\n",
    "        self.eval()\n",
    "        total_loss = 0.0\n",
    "        with torch.no_grad():\n",
    "            for batch in dataloader:\n",
    "                batch = batch.to(device)\n",
    "                loss = self._get_loss(batch)\n",
    "                total_loss += loss.item() * batch.size(0)\n",
    "        avg_loss = total_loss / len(dataloader)\n",
    "        print(f\"Validation Loss: {avg_loss:.4f}\")\n",
    "        return avg_loss\n",
    "\n",
    "    def cross_val(self, n_splits=5):\n",
    "        \"\"\"Perform cross-validation on the autoencoder.\"\"\"\n",
    "        torch.backends.cudnn.benchmark = True\n",
    "        kf = KFold(n_splits=n_splits, shuffle=True)\n",
    "        val_losses = []\n",
    "        for fold, (train_index, val_index) in enumerate(kf.split(self.data)):\n",
    "            print(f\"Fold {fold+1}/{n_splits}\")\n",
    "            train_sampler = torch.utils.data.SubsetRandomSampler(train_index)\n",
    "            val_sampler = torch.utils.data.SubsetRandomSampler(val_index)\n",
    "\n",
    "            train_loader = torch.utils.data.DataLoader(\n",
    "                self.data,\n",
    "                sampler=train_sampler,\n",
    "                batch_size=self.batch_size,\n",
    "                num_workers=12)\n",
    "            val_loader = torch.utils.data.DataLoader(\n",
    "                self.data,\n",
    "                sampler=val_sampler,\n",
    "                batch_size=self.batch_size,\n",
    "                num_workers=12)\n",
    "\n",
    "            self.train_model(train_loader)\n",
    "            val_loss = self.evaluate_model(val_loader)\n",
    "            val_losses.append(val_loss)\n",
    "        return val_losses\n",
    "    \n",
    "joint_autoencoder = JointAutoencoder(encoder=model.encoder, decoder=model.decoder)\n",
    "joint_autoencoder.cross_val()\n"
   ]
  }
 ],
 "metadata": {
  "kernelspec": {
   "display_name": ".venv",
   "language": "python",
   "name": "python3"
  },
  "language_info": {
   "codemirror_mode": {
    "name": "ipython",
    "version": 3
   },
   "file_extension": ".py",
   "mimetype": "text/x-python",
   "name": "python",
   "nbconvert_exporter": "python",
   "pygments_lexer": "ipython3",
   "version": "3.12.3"
  }
 },
 "nbformat": 4,
 "nbformat_minor": 2
}
